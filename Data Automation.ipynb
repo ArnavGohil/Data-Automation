{
 "cells": [
  {
   "cell_type": "code",
   "execution_count": 2,
   "metadata": {},
   "outputs": [],
   "source": [
    "import pyautogui"
   ]
  },
  {
   "cell_type": "code",
   "execution_count": 9,
   "metadata": {},
   "outputs": [],
   "source": [
    "Pagetab = pyautogui.position()"
   ]
  },
  {
   "cell_type": "code",
   "execution_count": 11,
   "metadata": {},
   "outputs": [],
   "source": [
    "dropdown = pyautogui.position()"
   ]
  },
  {
   "cell_type": "code",
   "execution_count": 15,
   "metadata": {},
   "outputs": [],
   "source": [
    "submit = pyautogui.position()"
   ]
  },
  {
   "cell_type": "code",
   "execution_count": 17,
   "metadata": {},
   "outputs": [],
   "source": [
    "back = pyautogui.position()"
   ]
  },
  {
   "cell_type": "code",
   "execution_count": 19,
   "metadata": {},
   "outputs": [],
   "source": [
    "excelFirst = pyautogui.position()"
   ]
  },
  {
   "cell_type": "code",
   "execution_count": 34,
   "metadata": {},
   "outputs": [],
   "source": [
    "excelSecond = pyautogui.position()"
   ]
  },
  {
   "cell_type": "code",
   "execution_count": 85,
   "metadata": {},
   "outputs": [
    {
     "name": "stdout",
     "output_type": "stream",
     "text": [
      "195\n",
      "Point(x=49, y=395)\n"
     ]
    }
   ],
   "source": [
    "dist = excelSecond.y - excelFirst.y\n",
    "print(dist)"
   ]
  },
  {
   "cell_type": "code",
   "execution_count": 24,
   "metadata": {},
   "outputs": [],
   "source": [
    "pageStart = pyautogui.position()"
   ]
  },
  {
   "cell_type": "code",
   "execution_count": 26,
   "metadata": {},
   "outputs": [],
   "source": [
    "pageEnd = pyautogui.position()"
   ]
  },
  {
   "cell_type": "code",
   "execution_count": 43,
   "metadata": {},
   "outputs": [],
   "source": [
    "count = [\n",
    "\"AFGHANISTAN TIS\",\n",
    "\"ALBANIA\",\n",
    "\"ALGERIA\",\n",
    "\"ANDORRA\",\n",
    "\"ANGOLA\",\n",
    "\"ANGUILLA\",\n",
    "\"ANTARTICA\",\n",
    "\"ANTIGUA\",\n",
    "\"ARGENTINA\",\n",
    "\"ARMENIA\",\n",
    "\"ARUBA\",\n",
    "\"AUSTRALIA\",\n",
    "\"AUSTRIA\",\n",
    "\"AZERBAIJAN\",\n",
    "\"BAHAMAS\",\n",
    "\"BAHARAIN IS\",\n",
    "\"BANGLADESH PR\",\n",
    "\"BARBADOS\",\n",
    "\"BELARUS\",\n",
    "\"BELGIUM\",\n",
    "\"BELIZE\",\n",
    "\"BENIN\",\n",
    "\"BERMUDA\",\n",
    "\"BHUTAN\",\n",
    "\"BOLIVIA\",\n",
    "\"BOSNIA-HRZGOVIN\",\n",
    "\"BOTSWANA\",\n",
    "\"BRAZIL\",\n",
    "\"BRUNEI\",\n",
    "\"BULGARIA\",\n",
    "\"BURKINA FASO\",\n",
    "\"BURUNDI\",\n",
    "\"C AFRI REP\",\n",
    "\"CAMBODIA\",\n",
    "\"CAMEROON\",\n",
    "\"CANADA\",\n",
    "\"CHAD\",\n",
    "\"CHILE\",\n",
    "\"CHINA P RP\",\n",
    "\"COLOMBIA\",\n",
    "\"COMOROS\",\n",
    "\"CONGO D. REP.\",\n",
    "\"CONGO P REP\",\n",
    "\"COSTA RICA\",\n",
    "\"COTE D' IVOIRE\",\n",
    "\"CROATIA\",\n",
    "\"CUBA\",\n",
    "\"CYPRUS\",\n",
    "\"CZECH REPUBLIC\",\n",
    "\"DENMARK\",\n",
    "\"DJIBOUTI\",\n",
    "\"DOMINIC REP\",\n",
    "\"DOMINICA\",\n",
    "\"ECUADOR\",\n",
    "\"EGYPT A RP\",\n",
    "\"EL SALVADOR\",\n",
    "\"EQUTL GUINEA\",\n",
    "\"ERITREA\",\n",
    "\"ESTONIA\",\n",
    "\"ETHIOPIA\",\n",
    "\"FAROE IS.\",\n",
    "\"FIJI IS\",\n",
    "\"FINLAND\",\n",
    "\"FR GUIANA\",\n",
    "\"FR POLYNESIA\",\n",
    "\"FRANCE\",\n",
    "\"GABON\",\n",
    "\"GAMBIA\",\n",
    "\"GEORGIA\",\n",
    "\"GERMANY\",\n",
    "\"GHANA\",\n",
    "\"GIBRALTAR\",\n",
    "\"GREECE\",\n",
    "\"GRENADA\",\n",
    "\"GUADELOUPE\",\n",
    "\"GUAM\",\n",
    "\"GUATEMALA\",\n",
    "\"GUINEA\",\n",
    "\"GUINEA BISSAU\",\n",
    "\"GUYANA\",\n",
    "\"HAITI\",\n",
    "\"HONDURAS\",\n",
    "\"HUNGARY\",\n",
    "\"ICELAND\",\n",
    "\"INDONESIA\",\n",
    "\"IRAN\",\n",
    "\"IRAQ\",\n",
    "\"IRELAND\",\n",
    "\"ISRAEL\",\n",
    "\"ITALY\",\n",
    "\"JAMAICA\",\n",
    "\"JAPAN\",\n",
    "\"JERSEY \",\n",
    "\"JORDAN\",\n",
    "\"KAZAKHSTAN\",\n",
    "\"KENYA\",\n",
    "\"KOREA DP RP\",\n",
    "\"KOREA RP\",\n",
    "\"KUWAIT\",\n",
    "\"KYRGHYZSTAN\",\n",
    "\"LAO PD RP\",\n",
    "\"LATVIA\",\n",
    "\"LEBANON\",\n",
    "\"LESOTHO\",\n",
    "\"LIBERIA\",\n",
    "\"LIBYA\",\n",
    "\"LIECHTENSTEIN\",\n",
    "\"LITHUANIA\",\n",
    "\"LUXEMBOURG\",\n",
    "\"MACAO\",\n",
    "\"MACEDONIA\",\n",
    "\"MADAGASCAR\",\n",
    "\"MALAWI\",\n",
    "\"MALAYSIA\",\n",
    "\"MALDIVES\",\n",
    "\"MALI\",\n",
    "\"MALTA\",\n",
    "\"MARSHALL ISLAND\",\n",
    "\"MARTINIQUE\",\n",
    "\"MAURITANIA\",\n",
    "\"MAURITIUS\",\n",
    "\"MAYOTTE\",\n",
    "\"MEXICO\",\n",
    "\"MOLDOVA\",\n",
    "\"MONACO\",\n",
    "\"MONGOLIA\",\n",
    "\"MONTENEGRO\",\n",
    "\"MOROCCO\",\n",
    "\"MOZAMBIQUE\",\n",
    "\"MYANMAR\",\n",
    "\"NAMIBIA\",\n",
    "\"NEPAL\",\n",
    "\"NETHERLAND\",\n",
    "\"NEW CALEDONIA\",\n",
    "\"NEW ZEALAND\",\n",
    "\"NICARAGUA\",\n",
    "\"NIGER\",\n",
    "\"NIGERIA\",\n",
    "\"NORWAY\",\n",
    "\"OMAN\",\n",
    "\"PAKISTAN IR\",\n",
    "\"PALAU\",\n",
    "\"PANAMA REPUBLIC\",\n",
    "\"PAPUA N GNA\",\n",
    "\"PARAGUAY\",\n",
    "\"PERU\",\n",
    "\"PHILIPPINES\",\n",
    "\"PITCAIRN IS.\",\n",
    "\"POLAND\",\n",
    "\"PORTUGAL\",\n",
    "\"PUERTO RICO\",\n",
    "\"QATAR\",\n",
    "\"REUNION\",\n",
    "\"ROMANIA\",\n",
    "\"RUSSIA\",\n",
    "\"RWANDA\",\n",
    "\"SAMOA\",\n",
    "\"SAN MARINO\",\n",
    "\"SAO TOME\",\n",
    "\"SAUDI ARAB\",\n",
    "\"SENEGAL\",\n",
    "\"SERBIA\",\n",
    "\"SEYCHELLES\",\n",
    "\"SIERRA LEONE\",\n",
    "\"SINGAPORE\",\n",
    "\"SLOVAK REP\",\n",
    "\"SLOVENIA\",\n",
    "\"SOLOMON IS\",\n",
    "\"SOMALIA\",\n",
    "\"SOUTH AFRICA\",\n",
    "\"SOUTH SUDAN \",\n",
    "\"SPAIN\",\n",
    "\"SRI LANKA DSR\",\n",
    "\"ST HELENA\",\n",
    "\"ST KITT N A\",\n",
    "\"ST LUCIA\",\n",
    "\"STATE OF PALEST\",\n",
    "\"SUDAN\",\n",
    "\"SURINAME\",\n",
    "\"SWAZILAND\",\n",
    "\"SWEDEN\",\n",
    "\"SWITZERLAND\",\n",
    "\"SYRIA\",\n",
    "\"TAIWAN\",\n",
    "\"TAJIKISTAN\",\n",
    "\"TANZANIA REP\",\n",
    "\"THAILAND\",\n",
    "\"TOGO\",\n",
    "\"TONGA\",\n",
    "\"TRINIDAD\",\n",
    "\"TUNISIA\",\n",
    "\"TURKEY\",\n",
    "\"TURKMENISTAN\",\n",
    "\"TUVALU\",\n",
    "\"U ARAB EMTS\",\n",
    "\"U K\",\n",
    "\"U S A\",\n",
    "\"UGANDA\",\n",
    "\"UKRAINE\",\n",
    "\"URUGUAY\",\n",
    "\"UZBEKISTAN\",\n",
    "\"VANUATU REP\",\n",
    "\"VATICAN CITY\",\n",
    "\"VENEZUELA\",\n",
    "\"VIETNAM SOC REP\",\n",
    "\"YEMEN REPUBLC\",\n",
    "\"ZAMBIA\",\n",
    "\"ZIMBABWE\",\n",
    "]"
   ]
  },
  {
   "cell_type": "code",
   "execution_count": 146,
   "metadata": {},
   "outputs": [],
   "source": [
    "pyautogui.moveTo(pageStart)\n",
    "pyautogui.dragTo(pageEnd, button='left')\n",
    "pyautogui.hotkey('command', 'c')\n",
    "pyautogui.click(excelFirst)\n",
    "pyautogui.hotkey('command', 'v')"
   ]
  },
  {
   "cell_type": "code",
   "execution_count": 154,
   "metadata": {},
   "outputs": [],
   "source": [
    "pyautogui.moveTo(excelFirst)\n",
    "pyautogui.hscroll(-20)\n",
    "pyautogui.click(excelFirst)"
   ]
  },
  {
   "cell_type": "code",
   "execution_count": 156,
   "metadata": {},
   "outputs": [],
   "source": [
    "pyautogui.click(excelFirst)\n",
    "pyautogui.write(count[0])"
   ]
  },
  {
   "cell_type": "code",
   "execution_count": null,
   "metadata": {},
   "outputs": [],
   "source": []
  }
 ],
 "metadata": {
  "kernelspec": {
   "display_name": "Python 3",
   "language": "python",
   "name": "python3"
  },
  "language_info": {
   "codemirror_mode": {
    "name": "ipython",
    "version": 3
   },
   "file_extension": ".py",
   "mimetype": "text/x-python",
   "name": "python",
   "nbconvert_exporter": "python",
   "pygments_lexer": "ipython3",
   "version": "3.7.6"
  }
 },
 "nbformat": 4,
 "nbformat_minor": 4
}
